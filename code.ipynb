{
 "cells": [
  {
   "cell_type": "markdown",
   "metadata": {},
   "source": [
    "# Telecom Customer Churn Case Study"
   ]
  },
  {
   "cell_type": "markdown",
   "metadata": {},
   "source": [
    "You have been provided with a dataset related to telecom customer churn. Each row in the dataset represents a unique customer, and the columns contain various attributes and information about these customers.\n",
    "\n",
    "The data set includes information about:\n",
    "- Churn Column: Indicates customer churn within the last month.\n",
    "- Services Info: Subscribed services like phone, internet, etc.\n",
    "- Account Details: Tenure, contract, billing, charges.\n",
    "- Demographics: Gender, age, and family status.\n"
   ]
  },
  {
   "cell_type": "markdown",
   "metadata": {},
   "source": [
    "## Load the dataset in a dataframe"
   ]
  },
  {
   "cell_type": "code",
   "execution_count": 43,
   "metadata": {},
   "outputs": [],
   "source": [
    "#import necessary libraries\n",
    "import pandas as pd\n",
    "import matplotlib.pyplot as plt\n",
    "import numpy as np"
   ]
  },
  {
   "cell_type": "code",
   "execution_count": 18,
   "metadata": {},
   "outputs": [
    {
     "name": "stdout",
     "output_type": "stream",
     "text": [
      "(7043, 21)\n"
     ]
    },
    {
     "data": {
      "text/html": [
       "<div>\n",
       "<style scoped>\n",
       "    .dataframe tbody tr th:only-of-type {\n",
       "        vertical-align: middle;\n",
       "    }\n",
       "\n",
       "    .dataframe tbody tr th {\n",
       "        vertical-align: top;\n",
       "    }\n",
       "\n",
       "    .dataframe thead th {\n",
       "        text-align: right;\n",
       "    }\n",
       "</style>\n",
       "<table border=\"1\" class=\"dataframe\">\n",
       "  <thead>\n",
       "    <tr style=\"text-align: right;\">\n",
       "      <th></th>\n",
       "      <th>customer_id</th>\n",
       "      <th>gender</th>\n",
       "      <th>senior_citizen</th>\n",
       "      <th>partner</th>\n",
       "      <th>dependents</th>\n",
       "      <th>tenure</th>\n",
       "      <th>phone_service</th>\n",
       "      <th>multiple_lines</th>\n",
       "      <th>internet_service</th>\n",
       "      <th>online_security</th>\n",
       "      <th>...</th>\n",
       "      <th>device_protection</th>\n",
       "      <th>tech_support</th>\n",
       "      <th>streaming_tv</th>\n",
       "      <th>streaming_movies</th>\n",
       "      <th>contract</th>\n",
       "      <th>paperless_billing</th>\n",
       "      <th>payment_method</th>\n",
       "      <th>monthly_charges</th>\n",
       "      <th>total_charges</th>\n",
       "      <th>churn</th>\n",
       "    </tr>\n",
       "  </thead>\n",
       "  <tbody>\n",
       "    <tr>\n",
       "      <th>0</th>\n",
       "      <td>7590-VHVEG</td>\n",
       "      <td>Male</td>\n",
       "      <td>0.0</td>\n",
       "      <td>No</td>\n",
       "      <td>No</td>\n",
       "      <td>1.067845</td>\n",
       "      <td>Yes</td>\n",
       "      <td>Yes</td>\n",
       "      <td>No</td>\n",
       "      <td>Yes</td>\n",
       "      <td>...</td>\n",
       "      <td>No</td>\n",
       "      <td>Yes</td>\n",
       "      <td>Yes</td>\n",
       "      <td>No internet service</td>\n",
       "      <td>One year</td>\n",
       "      <td>No</td>\n",
       "      <td>Mailed check</td>\n",
       "      <td>31.741201</td>\n",
       "      <td>735.90</td>\n",
       "      <td>Yes</td>\n",
       "    </tr>\n",
       "    <tr>\n",
       "      <th>1</th>\n",
       "      <td>5575-GNVDE</td>\n",
       "      <td>Male</td>\n",
       "      <td>0.0</td>\n",
       "      <td>No</td>\n",
       "      <td>No</td>\n",
       "      <td>35.520282</td>\n",
       "      <td>No</td>\n",
       "      <td>Yes</td>\n",
       "      <td>No</td>\n",
       "      <td>No internet service</td>\n",
       "      <td>...</td>\n",
       "      <td>No internet service</td>\n",
       "      <td>No internet service</td>\n",
       "      <td>No internet service</td>\n",
       "      <td>No</td>\n",
       "      <td>One year</td>\n",
       "      <td>No</td>\n",
       "      <td>Bank transfer (automatic)</td>\n",
       "      <td>56.633707</td>\n",
       "      <td>2606.35</td>\n",
       "      <td>No</td>\n",
       "    </tr>\n",
       "    <tr>\n",
       "      <th>2</th>\n",
       "      <td>3668-QPYBK</td>\n",
       "      <td>Male</td>\n",
       "      <td>0.0</td>\n",
       "      <td>No</td>\n",
       "      <td>Yes</td>\n",
       "      <td>1.939141</td>\n",
       "      <td>Yes</td>\n",
       "      <td>No phone service</td>\n",
       "      <td>DSL</td>\n",
       "      <td>No internet service</td>\n",
       "      <td>...</td>\n",
       "      <td>No internet service</td>\n",
       "      <td>No internet service</td>\n",
       "      <td>No internet service</td>\n",
       "      <td>Yes</td>\n",
       "      <td>Month-to-month</td>\n",
       "      <td>Yes</td>\n",
       "      <td>Credit card (automatic)</td>\n",
       "      <td>55.068603</td>\n",
       "      <td>705.45</td>\n",
       "      <td>No</td>\n",
       "    </tr>\n",
       "    <tr>\n",
       "      <th>3</th>\n",
       "      <td>7795-CFOCW</td>\n",
       "      <td>Male</td>\n",
       "      <td>0.0</td>\n",
       "      <td>Yes</td>\n",
       "      <td>Yes</td>\n",
       "      <td>40.620572</td>\n",
       "      <td>Yes</td>\n",
       "      <td>No phone service</td>\n",
       "      <td>Fiber optic</td>\n",
       "      <td>No</td>\n",
       "      <td>...</td>\n",
       "      <td>Yes</td>\n",
       "      <td>No</td>\n",
       "      <td>No internet service</td>\n",
       "      <td>No internet service</td>\n",
       "      <td>One year</td>\n",
       "      <td>No</td>\n",
       "      <td>Mailed check</td>\n",
       "      <td>38.749337</td>\n",
       "      <td>29.15</td>\n",
       "      <td>Yes</td>\n",
       "    </tr>\n",
       "    <tr>\n",
       "      <th>4</th>\n",
       "      <td>9237-HQITU</td>\n",
       "      <td>Female</td>\n",
       "      <td>0.0</td>\n",
       "      <td>No</td>\n",
       "      <td>No</td>\n",
       "      <td>1.956284</td>\n",
       "      <td>Yes</td>\n",
       "      <td>No phone service</td>\n",
       "      <td>DSL</td>\n",
       "      <td>No internet service</td>\n",
       "      <td>...</td>\n",
       "      <td>Yes</td>\n",
       "      <td>Yes</td>\n",
       "      <td>Yes</td>\n",
       "      <td>No</td>\n",
       "      <td>Month-to-month</td>\n",
       "      <td>No</td>\n",
       "      <td>Mailed check</td>\n",
       "      <td>65.018461</td>\n",
       "      <td>3177.25</td>\n",
       "      <td>Yes</td>\n",
       "    </tr>\n",
       "  </tbody>\n",
       "</table>\n",
       "<p>5 rows × 21 columns</p>\n",
       "</div>"
      ],
      "text/plain": [
       "  customer_id  gender  senior_citizen partner dependents     tenure  \\\n",
       "0  7590-VHVEG    Male             0.0      No         No   1.067845   \n",
       "1  5575-GNVDE    Male             0.0      No         No  35.520282   \n",
       "2  3668-QPYBK    Male             0.0      No        Yes   1.939141   \n",
       "3  7795-CFOCW    Male             0.0     Yes        Yes  40.620572   \n",
       "4  9237-HQITU  Female             0.0      No         No   1.956284   \n",
       "\n",
       "  phone_service    multiple_lines internet_service      online_security  ...  \\\n",
       "0           Yes               Yes               No                  Yes  ...   \n",
       "1            No               Yes               No  No internet service  ...   \n",
       "2           Yes  No phone service              DSL  No internet service  ...   \n",
       "3           Yes  No phone service      Fiber optic                   No  ...   \n",
       "4           Yes  No phone service              DSL  No internet service  ...   \n",
       "\n",
       "     device_protection         tech_support         streaming_tv  \\\n",
       "0                   No                  Yes                  Yes   \n",
       "1  No internet service  No internet service  No internet service   \n",
       "2  No internet service  No internet service  No internet service   \n",
       "3                  Yes                   No  No internet service   \n",
       "4                  Yes                  Yes                  Yes   \n",
       "\n",
       "      streaming_movies        contract paperless_billing  \\\n",
       "0  No internet service        One year                No   \n",
       "1                   No        One year                No   \n",
       "2                  Yes  Month-to-month               Yes   \n",
       "3  No internet service        One year                No   \n",
       "4                   No  Month-to-month                No   \n",
       "\n",
       "              payment_method monthly_charges  total_charges  churn  \n",
       "0               Mailed check       31.741201         735.90    Yes  \n",
       "1  Bank transfer (automatic)       56.633707        2606.35     No  \n",
       "2    Credit card (automatic)       55.068603         705.45     No  \n",
       "3               Mailed check       38.749337          29.15    Yes  \n",
       "4               Mailed check       65.018461        3177.25    Yes  \n",
       "\n",
       "[5 rows x 21 columns]"
      ]
     },
     "execution_count": 18,
     "metadata": {},
     "output_type": "execute_result"
    }
   ],
   "source": [
    "#1. import the provided dataset to dataframe (telecom_customer_churn.csv)\n",
    "#2. change the settings to display all the columns\n",
    "#3. check the number of rows and columns\n",
    "#4. check the top 5 rows\n",
    "\n",
    "df = pd.read_csv(\"dataset.csv\")\n",
    "print(df.shape)\n",
    "df.head(5)"
   ]
  },
  {
   "cell_type": "code",
   "execution_count": 19,
   "metadata": {},
   "outputs": [
    {
     "data": {
      "text/plain": [
       "Index(['customer_id', 'gender', 'senior_citizen', 'partner', 'dependents',\n",
       "       'tenure', 'phone_service', 'multiple_lines', 'internet_service',\n",
       "       'online_security', 'online_backup', 'device_protection', 'tech_support',\n",
       "       'streaming_tv', 'streaming_movies', 'contract', 'paperless_billing',\n",
       "       'payment_method', 'monthly_charges', 'total_charges', 'churn'],\n",
       "      dtype='object')"
      ]
     },
     "execution_count": 19,
     "metadata": {},
     "output_type": "execute_result"
    }
   ],
   "source": [
    "#display all the column names\n",
    "\n",
    "df.columns"
   ]
  },
  {
   "cell_type": "code",
   "execution_count": 20,
   "metadata": {},
   "outputs": [
    {
     "data": {
      "text/plain": [
       "customer_id          0\n",
       "gender               0\n",
       "senior_citizen       0\n",
       "partner              0\n",
       "dependents           0\n",
       "tenure               0\n",
       "phone_service        0\n",
       "multiple_lines       0\n",
       "internet_service     0\n",
       "online_security      0\n",
       "online_backup        0\n",
       "device_protection    0\n",
       "tech_support         0\n",
       "streaming_tv         0\n",
       "streaming_movies     0\n",
       "contract             0\n",
       "paperless_billing    0\n",
       "payment_method       0\n",
       "monthly_charges      0\n",
       "total_charges        0\n",
       "churn                0\n",
       "dtype: int64"
      ]
     },
     "execution_count": 20,
     "metadata": {},
     "output_type": "execute_result"
    }
   ],
   "source": [
    "# Check if the dataset contains nulls\n",
    "df.isnull().sum()"
   ]
  },
  {
   "cell_type": "code",
   "execution_count": 21,
   "metadata": {},
   "outputs": [
    {
     "data": {
      "text/plain": [
       "customer_id           object\n",
       "gender                object\n",
       "senior_citizen       float64\n",
       "partner               object\n",
       "dependents            object\n",
       "tenure               float64\n",
       "phone_service         object\n",
       "multiple_lines        object\n",
       "internet_service      object\n",
       "online_security       object\n",
       "online_backup         object\n",
       "device_protection     object\n",
       "tech_support          object\n",
       "streaming_tv          object\n",
       "streaming_movies      object\n",
       "contract              object\n",
       "paperless_billing     object\n",
       "payment_method        object\n",
       "monthly_charges      float64\n",
       "total_charges        float64\n",
       "churn                 object\n",
       "dtype: object"
      ]
     },
     "execution_count": 21,
     "metadata": {},
     "output_type": "execute_result"
    }
   ],
   "source": [
    "#check the datatype of all columns\n",
    "\n",
    "df.dtypes"
   ]
  },
  {
   "cell_type": "code",
   "execution_count": 26,
   "metadata": {},
   "outputs": [
    {
     "data": {
      "text/plain": [
       "customer_id           object\n",
       "gender                object\n",
       "senior_citizen         int64\n",
       "partner               object\n",
       "dependents            object\n",
       "tenure                 int64\n",
       "phone_service         object\n",
       "multiple_lines        object\n",
       "internet_service      object\n",
       "online_security       object\n",
       "online_backup         object\n",
       "device_protection     object\n",
       "tech_support          object\n",
       "streaming_tv          object\n",
       "streaming_movies      object\n",
       "contract              object\n",
       "paperless_billing     object\n",
       "payment_method        object\n",
       "monthly_charges      float64\n",
       "total_charges        float64\n",
       "churn                 object\n",
       "dtype: object"
      ]
     },
     "execution_count": 26,
     "metadata": {},
     "output_type": "execute_result"
    }
   ],
   "source": [
    "# Fix the datatype\n",
    "df[\"senior_citizen\"] = pd.to_numeric(df[\"senior_citizen\"], errors=\"coerce\")\n",
    "df[\"tenure\"] = pd.to_numeric(df[\"tenure\"], errors=\"coerce\")\n",
    "\n",
    "\n",
    "df[\"senior_citizen\"] = df[\"senior_citizen\"].astype(int)\n",
    "df[\"tenure\"] = df[\"tenure\"].astype(int)\n",
    "df.dtypes"
   ]
  },
  {
   "cell_type": "markdown",
   "metadata": {},
   "source": [
    "Q1 - Calculate the mean, median, and mode of the monthly_charges column"
   ]
  },
  {
   "cell_type": "code",
   "execution_count": 78,
   "metadata": {},
   "outputs": [
    {
     "data": {
      "text/plain": [
       "(np.float64(64.69047594165144),\n",
       " np.float64(70.11675154192427),\n",
       " np.float64(16.951399178634666))"
      ]
     },
     "execution_count": 78,
     "metadata": {},
     "output_type": "execute_result"
    }
   ],
   "source": [
    "mean = df[\"monthly_charges\"].mean()\n",
    "median = df[\"monthly_charges\"].median()\n",
    "mode = df[\"monthly_charges\"].mode()[0]\n",
    "\n",
    "mean, median, mode"
   ]
  },
  {
   "cell_type": "code",
   "execution_count": 84,
   "metadata": {},
   "outputs": [
    {
     "data": {
      "image/png": "[encoded data removed]",
      "text/plain": [
       "<Figure size 1200x400 with 1 Axes>"
      ]
     },
     "metadata": {},
     "output_type": "display_data"
    }
   ],
   "source": [
    "plt.figure(figsize=(12,4))\n",
    "\n",
    "plt.hist(df[\"monthly_charges\"], bins=20)\n",
    "plt.axvline(mean, c=\"r\", ls=\"--\")\n",
    "plt.axvline(median, c=\"y\", ls=\"--\")\n",
    "plt.axvline(mode, c=\"b\", ls=\"--\")\n",
    "\n",
    "plt.show()"
   ]
  },
  {
   "cell_type": "markdown",
   "metadata": {},
   "source": [
    "Q2 - Calculate the 25th, 50th, and 75th percentiles of the total_charges column"
   ]
  },
  {
   "cell_type": "code",
   "execution_count": 97,
   "metadata": {},
   "outputs": [
    {
     "data": {
      "text/plain": [
       "0.25     535.2\n",
       "0.50    1558.7\n",
       "0.75    4039.3\n",
       "Name: total_charges, dtype: float64"
      ]
     },
     "execution_count": 97,
     "metadata": {},
     "output_type": "execute_result"
    }
   ],
   "source": [
    "percentiles = df[\"total_charges\"].quantile([.25, .5, .75])\n",
    "\n",
    "percentiles"
   ]
  },
  {
   "cell_type": "markdown",
   "metadata": {},
   "source": [
    "Q3 - Calculate the range of monthly_charges column?\n",
    "\n",
    "Hint - Range is the difference between max and min of monthly_charges."
   ]
  },
  {
   "cell_type": "code",
   "execution_count": 92,
   "metadata": {},
   "outputs": [
    {
     "data": {
      "text/plain": [
       "111"
      ]
     },
     "execution_count": 92,
     "metadata": {},
     "output_type": "execute_result"
    }
   ],
   "source": [
    "round(df[\"monthly_charges\"].max() - df[\"monthly_charges\"].min())"
   ]
  },
  {
   "cell_type": "markdown",
   "metadata": {},
   "source": [
    "Q4 - What is the first quartile of the monthly_charges column for customers who have not churned?"
   ]
  },
  {
   "cell_type": "code",
   "execution_count": 100,
   "metadata": {},
   "outputs": [
    {
     "data": {
      "text/plain": [
       "churn\n",
       "Yes    3595\n",
       "No     3448\n",
       "Name: count, dtype: int64"
      ]
     },
     "execution_count": 100,
     "metadata": {},
     "output_type": "execute_result"
    }
   ],
   "source": [
    "df[\"churn\"].value_counts()"
   ]
  },
  {
   "cell_type": "code",
   "execution_count": 107,
   "metadata": {},
   "outputs": [
    {
     "data": {
      "text/plain": [
       "np.float64(36.68633540206135)"
      ]
     },
     "execution_count": 107,
     "metadata": {},
     "output_type": "execute_result"
    }
   ],
   "source": [
    "percentile = df.loc[df[\"churn\"] == \"No\", \"monthly_charges\"].quantile(0.25)\n",
    "percentile"
   ]
  },
  {
   "cell_type": "markdown",
   "metadata": {},
   "source": [
    "Q5 - What is the third quartile of the total_charges column for customers who have churned?"
   ]
  },
  {
   "cell_type": "code",
   "execution_count": 108,
   "metadata": {},
   "outputs": [
    {
     "data": {
      "text/plain": [
       "np.float64(4018.05)"
      ]
     },
     "execution_count": 108,
     "metadata": {},
     "output_type": "execute_result"
    }
   ],
   "source": [
    "percentile = df.loc[df[\"churn\"] == \"Yes\", \"total_charges\"].quantile(0.75)\n",
    "percentile"
   ]
  },
  {
   "cell_type": "markdown",
   "metadata": {},
   "source": [
    "Q6-  What is the mode of the payment method column for customers who have churned?"
   ]
  },
  {
   "cell_type": "code",
   "execution_count": 109,
   "metadata": {},
   "outputs": [
    {
     "data": {
      "text/plain": [
       "'Electronic check'"
      ]
     },
     "execution_count": 109,
     "metadata": {},
     "output_type": "execute_result"
    }
   ],
   "source": [
    "mode_payment = df.loc[df[\"churn\"] == \"Yes\", \"payment_method\"].mode()[0]\n",
    "mode_payment"
   ]
  },
  {
   "cell_type": "markdown",
   "metadata": {},
   "source": [
    "Q7 - What is the mean of the total charges column for customers who have churned and have a month-to-month contract?"
   ]
  },
  {
   "cell_type": "code",
   "execution_count": 114,
   "metadata": {},
   "outputs": [
    {
     "data": {
      "text/plain": [
       "contract\n",
       "Two year          2374\n",
       "One year          2357\n",
       "Month-to-month    2312\n",
       "Name: count, dtype: int64"
      ]
     },
     "execution_count": 114,
     "metadata": {},
     "output_type": "execute_result"
    }
   ],
   "source": [
    "df[\"contract\"].value_counts()"
   ]
  },
  {
   "cell_type": "code",
   "execution_count": 118,
   "metadata": {},
   "outputs": [
    {
     "data": {
      "text/plain": [
       "np.float64(2448.2522687609076)"
      ]
     },
     "execution_count": 118,
     "metadata": {},
     "output_type": "execute_result"
    }
   ],
   "source": [
    "# Filter the rows based on the churn status and contract type\n",
    "df_filtered = df.loc[(df[\"churn\"] == \"Yes\") & (df[\"contract\"] == \"Month-to-month\"), \"total_charges\"]\n",
    "\n",
    "# Calculate the mean of the total charges column\n",
    "mean = df_filtered.mean()\n",
    "\n",
    "# Print the result\n",
    "mean"
   ]
  },
  {
   "cell_type": "markdown",
   "metadata": {},
   "source": [
    "Q8 - What is the median of the tenure column for customers who have not churned and have a two-year contract?"
   ]
  },
  {
   "cell_type": "code",
   "execution_count": 119,
   "metadata": {},
   "outputs": [
    {
     "data": {
      "text/plain": [
       "np.float64(26.0)"
      ]
     },
     "execution_count": 119,
     "metadata": {},
     "output_type": "execute_result"
    }
   ],
   "source": [
    "# Filter the rows based on the churn status and contract type\n",
    "df_filtered = df.loc[(df[\"churn\"] == \"No\") & (df[\"contract\"] == \"Two year\"), \"tenure\"]\n",
    "\n",
    "# Calculate the median of the tenure column\n",
    "median = df_filtered.median()\n",
    "\n",
    "# Print the result\n",
    "median\n"
   ]
  },
  {
   "cell_type": "code",
   "execution_count": null,
   "metadata": {},
   "outputs": [],
   "source": []
  }
 ],
 "metadata": {
  "kernelspec": {
   "display_name": "Python 3",
   "language": "python",
   "name": "python3"
  },
  "language_info": {
   "codemirror_mode": {
    "name": "ipython",
    "version": 3
   },
   "file_extension": ".py",
   "mimetype": "text/x-python",
   "name": "python",
   "nbconvert_exporter": "python",
   "pygments_lexer": "ipython3",
   "version": "3.13.2"
  }
 },
 "nbformat": 4,
 "nbformat_minor": 2
}
